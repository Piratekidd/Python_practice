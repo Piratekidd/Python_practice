{
 "cells": [
  {
   "cell_type": "code",
   "execution_count": 3,
   "id": "66cc8396-76d4-4466-b118-54ccdc8c4e39",
   "metadata": {},
   "outputs": [],
   "source": [
    "import pandas as pd"
   ]
  },
  {
   "cell_type": "code",
   "execution_count": 4,
   "id": "404a261c-eb48-4edd-820c-b9ccdacda517",
   "metadata": {},
   "outputs": [],
   "source": [
    "df = pd.read_csv(r\"C:\\Users\\Shubham Thakkar\\OneDrive\\Desktop\\data.csv\")"
   ]
  },
  {
   "cell_type": "code",
   "execution_count": 5,
   "id": "ccba2972-290f-4efa-a481-a23df9805b89",
   "metadata": {},
   "outputs": [
    {
     "data": {
      "text/html": [
       "<div>\n",
       "<style scoped>\n",
       "    .dataframe tbody tr th:only-of-type {\n",
       "        vertical-align: middle;\n",
       "    }\n",
       "\n",
       "    .dataframe tbody tr th {\n",
       "        vertical-align: top;\n",
       "    }\n",
       "\n",
       "    .dataframe thead th {\n",
       "        text-align: right;\n",
       "    }\n",
       "</style>\n",
       "<table border=\"1\" class=\"dataframe\">\n",
       "  <thead>\n",
       "    <tr style=\"text-align: right;\">\n",
       "      <th></th>\n",
       "      <th>Date</th>\n",
       "      <th>Open</th>\n",
       "      <th>High</th>\n",
       "      <th>Low</th>\n",
       "      <th>Close</th>\n",
       "    </tr>\n",
       "  </thead>\n",
       "  <tbody>\n",
       "    <tr>\n",
       "      <th>0</th>\n",
       "      <td>2022-01-01</td>\n",
       "      <td>100.0</td>\n",
       "      <td>105.0</td>\n",
       "      <td>98.5</td>\n",
       "      <td>102.5</td>\n",
       "    </tr>\n",
       "    <tr>\n",
       "      <th>1</th>\n",
       "      <td>2022-01-02</td>\n",
       "      <td>102.5</td>\n",
       "      <td>107.2</td>\n",
       "      <td>101.0</td>\n",
       "      <td>105.8</td>\n",
       "    </tr>\n",
       "    <tr>\n",
       "      <th>2</th>\n",
       "      <td>2022-01-03</td>\n",
       "      <td>105.8</td>\n",
       "      <td>108.0</td>\n",
       "      <td>103.5</td>\n",
       "      <td>106.2</td>\n",
       "    </tr>\n",
       "    <tr>\n",
       "      <th>3</th>\n",
       "      <td>2022-01-04</td>\n",
       "      <td>106.2</td>\n",
       "      <td>110.5</td>\n",
       "      <td>105.8</td>\n",
       "      <td>109.0</td>\n",
       "    </tr>\n",
       "    <tr>\n",
       "      <th>4</th>\n",
       "      <td>2022-01-05</td>\n",
       "      <td>109.0</td>\n",
       "      <td>112.8</td>\n",
       "      <td>108.5</td>\n",
       "      <td>111.2</td>\n",
       "    </tr>\n",
       "    <tr>\n",
       "      <th>5</th>\n",
       "      <td>2022-01-06</td>\n",
       "      <td>111.2</td>\n",
       "      <td>115.0</td>\n",
       "      <td>110.5</td>\n",
       "      <td>113.5</td>\n",
       "    </tr>\n",
       "  </tbody>\n",
       "</table>\n",
       "</div>"
      ],
      "text/plain": [
       "         Date   Open   High    Low  Close\n",
       "0  2022-01-01  100.0  105.0   98.5  102.5\n",
       "1  2022-01-02  102.5  107.2  101.0  105.8\n",
       "2  2022-01-03  105.8  108.0  103.5  106.2\n",
       "3  2022-01-04  106.2  110.5  105.8  109.0\n",
       "4  2022-01-05  109.0  112.8  108.5  111.2\n",
       "5  2022-01-06  111.2  115.0  110.5  113.5"
      ]
     },
     "execution_count": 5,
     "metadata": {},
     "output_type": "execute_result"
    }
   ],
   "source": [
    "df"
   ]
  },
  {
   "cell_type": "code",
   "execution_count": 6,
   "id": "5358f261-8483-4309-b41f-92babc60f0a6",
   "metadata": {},
   "outputs": [],
   "source": [
    "def moving_average(data, window_size):\n",
    "    return data.rolling(window=window_size).mean()"
   ]
  },
  {
   "cell_type": "code",
   "execution_count": 33,
   "id": "b88aa714-a363-4025-bdc1-48b45a2a0ed7",
   "metadata": {},
   "outputs": [
    {
     "data": {
      "text/plain": [
       "0        NaN\n",
       "1        NaN\n",
       "2        NaN\n",
       "3    105.875\n",
       "4    108.050\n",
       "5    109.975\n",
       "Name: Close, dtype: float64"
      ]
     },
     "execution_count": 33,
     "metadata": {},
     "output_type": "execute_result"
    }
   ],
   "source": [
    "moving_average(df['Close'],4)"
   ]
  },
  {
   "cell_type": "code",
   "execution_count": 8,
   "id": "859cdc27-7bbc-4fa2-b661-533e52d1c380",
   "metadata": {},
   "outputs": [
    {
     "data": {
      "text/plain": [
       "0    100.0\n",
       "1    102.5\n",
       "2    105.8\n",
       "3    106.2\n",
       "4    109.0\n",
       "5    111.2\n",
       "Name: Open, dtype: float64"
      ]
     },
     "execution_count": 8,
     "metadata": {},
     "output_type": "execute_result"
    }
   ],
   "source": [
    "df['Open']"
   ]
  },
  {
   "cell_type": "code",
   "execution_count": 9,
   "id": "859b3933-727b-41f9-9f44-50eeddf70f83",
   "metadata": {},
   "outputs": [],
   "source": [
    "a = df['Open']"
   ]
  },
  {
   "cell_type": "code",
   "execution_count": null,
   "id": "5f85c00b-155c-489b-ac9c-0f279c368a82",
   "metadata": {},
   "outputs": [],
   "source": []
  },
  {
   "cell_type": "code",
   "execution_count": 30,
   "id": "d4205e47-2847-4987-b0a0-7f597e0953b6",
   "metadata": {},
   "outputs": [
    {
     "name": "stdin",
     "output_type": "stream",
     "text": [
      "Enter your string:  A man a plan a canal Panama\n"
     ]
    },
    {
     "data": {
      "text/plain": [
       "True"
      ]
     },
     "execution_count": 30,
     "metadata": {},
     "output_type": "execute_result"
    }
   ],
   "source": [
    "is_palindrom()"
   ]
  },
  {
   "cell_type": "code",
   "execution_count": null,
   "id": "a41484be-a717-43d6-bce9-64ce5a748441",
   "metadata": {},
   "outputs": [],
   "source": []
  },
  {
   "cell_type": "code",
   "execution_count": 4,
   "id": "535a0ccc-a0c6-46d2-b6b1-a7763565ed25",
   "metadata": {},
   "outputs": [
    {
     "name": "stdout",
     "output_type": "stream",
     "text": [
      "<function area_of_circle at 0x00000272C681C180>\n"
     ]
    }
   ],
   "source": [
    "# area of circle\n",
    "\n",
    "def area_of_circle(r):\n",
    "    return (22/7)*r*r\n",
    "\n",
    "print(area_of_circle)\n"
   ]
  },
  {
   "cell_type": "code",
   "execution_count": 5,
   "id": "d3394d19-3338-47f9-97e4-386db802d024",
   "metadata": {},
   "outputs": [
    {
     "data": {
      "text/plain": [
       "12.571428571428571"
      ]
     },
     "execution_count": 5,
     "metadata": {},
     "output_type": "execute_result"
    }
   ],
   "source": [
    "area_of_circle(2)"
   ]
  },
  {
   "cell_type": "code",
   "execution_count": 7,
   "id": "ff14dd73-8d3b-4efb-8edb-8e572af547c4",
   "metadata": {},
   "outputs": [
    {
     "name": "stdout",
     "output_type": "stream",
     "text": [
      "<function f_to_c at 0x00000272C5F5B420>\n"
     ]
    }
   ],
   "source": [
    "def f_to_c(f):\n",
    "    return (f-32)*(5/9)\n",
    "\n",
    "print(f_to_c)"
   ]
  },
  {
   "cell_type": "code",
   "execution_count": 8,
   "id": "9f070f4d-ec6d-436e-946d-7621a836a9c3",
   "metadata": {},
   "outputs": [
    {
     "data": {
      "text/plain": [
       "40.0"
      ]
     },
     "execution_count": 8,
     "metadata": {},
     "output_type": "execute_result"
    }
   ],
   "source": [
    "f_to_c(104)"
   ]
  },
  {
   "cell_type": "code",
   "execution_count": null,
   "id": "08fba321-c9af-4a16-846c-3dd163d0bc53",
   "metadata": {},
   "outputs": [],
   "source": []
  },
  {
   "cell_type": "code",
   "execution_count": 24,
   "id": "7a41429c-d3a9-4109-97ab-429c3b79a6ba",
   "metadata": {},
   "outputs": [
    {
     "name": "stdin",
     "output_type": "stream",
     "text": [
      "Enter Your String:  ABC ba\n"
     ]
    },
    {
     "data": {
      "text/plain": [
       "True"
      ]
     },
     "execution_count": 24,
     "metadata": {},
     "output_type": "execute_result"
    }
   ],
   "source": [
    "p = input(\"Enter Your String: \")\n",
    "\n",
    "def pelind(p):\n",
    "    p = p.lower().replace(\" \",\"\")\n",
    "    return p == p[::-1]\n",
    "\n",
    "pelind(p)"
   ]
  },
  {
   "cell_type": "code",
   "execution_count": 26,
   "id": "e6eb9208-6825-4071-96a7-37fbbba2a5b8",
   "metadata": {},
   "outputs": [],
   "source": [
    "a = \"Recursive function to check if a\""
   ]
  },
  {
   "cell_type": "code",
   "execution_count": 27,
   "id": "33ba7562-bd7d-44fe-a57d-f12a74a2afe8",
   "metadata": {},
   "outputs": [
    {
     "data": {
      "text/plain": [
       "6"
      ]
     },
     "execution_count": 27,
     "metadata": {},
     "output_type": "execute_result"
    }
   ],
   "source": [
    "len(a.split())"
   ]
  },
  {
   "cell_type": "code",
   "execution_count": 1,
   "id": "4d689d8f-ee1c-4956-807d-9f39f2c5e318",
   "metadata": {},
   "outputs": [
    {
     "name": "stdout",
     "output_type": "stream",
     "text": [
      "8\n"
     ]
    }
   ],
   "source": [
    "a = 5\n",
    "b = 3\n",
    "sum = a+b\n",
    "print(sum)"
   ]
  },
  {
   "cell_type": "code",
   "execution_count": 20,
   "id": "7dfbbd9b-3398-4c23-a9ce-b6a5e0d54bee",
   "metadata": {},
   "outputs": [
    {
     "name": "stdout",
     "output_type": "stream",
     "text": [
      "30\n"
     ]
    }
   ],
   "source": [
    "a = 10\n",
    "b = 20\n",
    "c = 30\n",
    "\n",
    "def maxim(a,b,c):\n",
    "    if a>b and a>c:\n",
    "        return a\n",
    "    elif b>a and b>c:\n",
    "        return b\n",
    "    else:\n",
    "        return c\n",
    "    # return maxim(a,b,c)\n",
    "print(maxim(a,b,c))"
   ]
  },
  {
   "cell_type": "code",
   "execution_count": 6,
   "id": "7b707db6-f411-48d8-94cd-ac4b95125fd6",
   "metadata": {},
   "outputs": [
    {
     "name": "stdout",
     "output_type": "stream",
     "text": [
      "50 is max\n"
     ]
    }
   ],
   "source": [
    "maxim(10,50,30)"
   ]
  },
  {
   "cell_type": "code",
   "execution_count": null,
   "id": "67146db1-4dba-461e-b7dc-afa1e02f73da",
   "metadata": {},
   "outputs": [],
   "source": []
  },
  {
   "cell_type": "code",
   "execution_count": 10,
   "id": "ebba7734-1a2d-4c95-9401-c97d65d8c12f",
   "metadata": {},
   "outputs": [
    {
     "name": "stdin",
     "output_type": "stream",
     "text": [
      " 5\n",
      " 5\n"
     ]
    },
    {
     "name": "stdout",
     "output_type": "stream",
     "text": [
      "sum is:  10\n",
      "multiplication is:  25\n"
     ]
    }
   ],
   "source": [
    "a = int(input())\n",
    "b = int(input())\n",
    "\n",
    "def sum1(a,b):\n",
    "    return a+b\n",
    "    print(sum1)\n",
    "\n",
    "def mult(a,b):\n",
    "    return a*b\n",
    "    print(mult)\n",
    "\n",
    "print(\"sum is: \",sum1(a,b))\n",
    "print(\"multiplication is: \",mult(a,b))"
   ]
  },
  {
   "cell_type": "code",
   "execution_count": 16,
   "id": "e2dc59c1-6578-4a06-8ec2-64d9b1270d6a",
   "metadata": {},
   "outputs": [
    {
     "name": "stdin",
     "output_type": "stream",
     "text": [
      " 4\n"
     ]
    },
    {
     "name": "stdout",
     "output_type": "stream",
     "text": [
      "4 5\n"
     ]
    }
   ],
   "source": [
    "number = int(input())\n",
    "\n",
    "print(number,number+1)"
   ]
  },
  {
   "cell_type": "code",
   "execution_count": 23,
   "id": "f70c2315-8470-47c8-ac3f-777dd82e521c",
   "metadata": {},
   "outputs": [
    {
     "name": "stdin",
     "output_type": "stream",
     "text": [
      " 10\n"
     ]
    },
    {
     "name": "stdout",
     "output_type": "stream",
     "text": [
      "current number is 0 and previous number is -1 sum: -1\n",
      "current number is 1 and previous number is 0 sum: 1\n",
      "current number is 2 and previous number is 1 sum: 3\n",
      "current number is 3 and previous number is 2 sum: 5\n",
      "current number is 4 and previous number is 3 sum: 7\n",
      "current number is 5 and previous number is 4 sum: 9\n",
      "current number is 6 and previous number is 5 sum: 11\n",
      "current number is 7 and previous number is 6 sum: 13\n",
      "current number is 8 and previous number is 7 sum: 15\n",
      "current number is 9 and previous number is 8 sum: 17\n"
     ]
    }
   ],
   "source": [
    "n = int(input())\n",
    "\n",
    "for i in range(0,n):\n",
    "    print(\"current number is\",i,\"and previous number is\",i-1,\"sum:\",i+(i-1))\n",
    "    i+1"
   ]
  },
  {
   "cell_type": "code",
   "execution_count": null,
   "id": "53bcc11d-6e27-466b-bd2e-22d29361a942",
   "metadata": {},
   "outputs": [],
   "source": []
  },
  {
   "cell_type": "code",
   "execution_count": 34,
   "id": "bb73a21c-695b-4840-bb0a-b9b07728d534",
   "metadata": {},
   "outputs": [
    {
     "name": "stdin",
     "output_type": "stream",
     "text": [
      " sshhuubbhhaamm\n"
     ]
    },
    {
     "name": "stdout",
     "output_type": "stream",
     "text": [
      "s\n",
      "h\n",
      "u\n",
      "b\n",
      "h\n",
      "a\n",
      "m\n"
     ]
    }
   ],
   "source": [
    "n = str(input())\n",
    "\n",
    "for i in n[1::2]:\n",
    "    print(i)"
   ]
  },
  {
   "cell_type": "code",
   "execution_count": null,
   "id": "573f5a44-57f6-41e1-8b7e-db3ba60199fd",
   "metadata": {},
   "outputs": [],
   "source": []
  },
  {
   "cell_type": "code",
   "execution_count": 54,
   "id": "c1820f80-899d-430c-b262-0064a149f9ce",
   "metadata": {},
   "outputs": [
    {
     "name": "stdout",
     "output_type": "stream",
     "text": [
      "1 \n",
      "2 2 \n",
      "3 3 3 \n",
      "4 4 4 4 \n",
      "5 5 5 5 5 \n"
     ]
    }
   ],
   "source": [
    "for i in range(0,5):\n",
    "    for j in range (0,i+1):\n",
    "        print(i+1,end=\" \")\n",
    "    print()"
   ]
  },
  {
   "cell_type": "code",
   "execution_count": 56,
   "id": "2a49f380-71f1-4cc0-a60f-2f093927b797",
   "metadata": {},
   "outputs": [
    {
     "name": "stdout",
     "output_type": "stream",
     "text": [
      "233 2\n"
     ]
    }
   ],
   "source": [
    "num = 233.124134124\n",
    "print(round(num),2\\)"
   ]
  },
  {
   "cell_type": "code",
   "execution_count": null,
   "id": "f8f91a0a-7646-4e5d-bffa-1a3ed2c4660e",
   "metadata": {},
   "outputs": [],
   "source": []
  },
  {
   "cell_type": "code",
   "execution_count": null,
   "id": "e3bf8f06-0d51-421c-9c7e-2b1d9e1eb019",
   "metadata": {},
   "outputs": [],
   "source": []
  },
  {
   "cell_type": "code",
   "execution_count": null,
   "id": "9c94c393-e079-48cc-93a1-864365765c27",
   "metadata": {},
   "outputs": [],
   "source": []
  },
  {
   "cell_type": "code",
   "execution_count": null,
   "id": "d246f15a-becd-4889-ad15-91c1d052329c",
   "metadata": {},
   "outputs": [],
   "source": []
  },
  {
   "cell_type": "code",
   "execution_count": null,
   "id": "afd15bf7-18ef-43c8-90e6-726a24b4ef58",
   "metadata": {},
   "outputs": [],
   "source": []
  },
  {
   "cell_type": "code",
   "execution_count": null,
   "id": "b21eb2ed-5a93-4b1f-8498-9cbcae6e2a38",
   "metadata": {},
   "outputs": [],
   "source": []
  },
  {
   "cell_type": "code",
   "execution_count": null,
   "id": "c2e17a9e-4860-4df3-bd35-846f0b3fecf1",
   "metadata": {},
   "outputs": [],
   "source": []
  },
  {
   "cell_type": "code",
   "execution_count": null,
   "id": "e9eb4bdc-a0f4-4cec-8779-32e969a7ba70",
   "metadata": {},
   "outputs": [],
   "source": []
  },
  {
   "cell_type": "code",
   "execution_count": null,
   "id": "6656275a-c266-4429-8b21-314723d17d5c",
   "metadata": {},
   "outputs": [],
   "source": []
  },
  {
   "cell_type": "code",
   "execution_count": null,
   "id": "75602196-e93d-45c5-a0dc-136f81a25dd5",
   "metadata": {},
   "outputs": [],
   "source": []
  },
  {
   "cell_type": "code",
   "execution_count": null,
   "id": "8ddeb613-7ba0-4999-ab8d-1e713d92f6d4",
   "metadata": {},
   "outputs": [],
   "source": []
  },
  {
   "cell_type": "code",
   "execution_count": null,
   "id": "a8207eb6-5973-4a38-8223-5aa7c5499443",
   "metadata": {},
   "outputs": [],
   "source": []
  },
  {
   "cell_type": "code",
   "execution_count": null,
   "id": "61ac2378-207d-41d1-8062-034f05139d47",
   "metadata": {},
   "outputs": [],
   "source": []
  },
  {
   "cell_type": "code",
   "execution_count": null,
   "id": "fc68b1d1-1479-46df-8bbc-c0944a50b302",
   "metadata": {},
   "outputs": [],
   "source": []
  },
  {
   "cell_type": "code",
   "execution_count": null,
   "id": "563e17d0-c0cc-478e-8370-ea91756a8380",
   "metadata": {},
   "outputs": [],
   "source": []
  },
  {
   "cell_type": "code",
   "execution_count": null,
   "id": "62158770-b9da-4415-bb5d-65a0e4800921",
   "metadata": {},
   "outputs": [],
   "source": []
  },
  {
   "cell_type": "code",
   "execution_count": null,
   "id": "5c504437-0ca7-487e-91e9-3ee0f15b56eb",
   "metadata": {},
   "outputs": [],
   "source": []
  }
 ],
 "metadata": {
  "kernelspec": {
   "display_name": "Python 3 (ipykernel)",
   "language": "python",
   "name": "python3"
  },
  "language_info": {
   "codemirror_mode": {
    "name": "ipython",
    "version": 3
   },
   "file_extension": ".py",
   "mimetype": "text/x-python",
   "name": "python",
   "nbconvert_exporter": "python",
   "pygments_lexer": "ipython3",
   "version": "3.11.7"
  }
 },
 "nbformat": 4,
 "nbformat_minor": 5
}
