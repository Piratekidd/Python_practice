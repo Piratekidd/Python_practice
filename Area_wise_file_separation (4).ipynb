{
 "cells": [
  {
   "cell_type": "code",
   "execution_count": 4,
   "id": "f1be6135-5a04-49a4-8722-de9d506d82d0",
   "metadata": {},
   "outputs": [
    {
     "name": "stderr",
     "output_type": "stream",
     "text": [
      "C:\\Users\\Shubham Thakkar\\AppData\\Local\\Temp\\ipykernel_17536\\448638919.py:14: SettingWithCopyWarning: \n",
      "A value is trying to be set on a copy of a slice from a DataFrame\n",
      "\n",
      "See the caveats in the documentation: https://pandas.pydata.org/pandas-docs/stable/user_guide/indexing.html#returning-a-view-versus-a-copy\n",
      "  filtered_df['app_status'].fillna('Blank', inplace=True)\n"
     ]
    }
   ],
   "source": [
    "import pandas as pd\n",
    "import os\n",
    "from datetime import datetime\n",
    "from openpyxl import load_workbook\n",
    "from openpyxl.styles import Border, Side\n",
    "\n",
    "# Replace 'file_path.xlsx' with the path to your Excel file\n",
    "df = pd.read_excel(\"F:\\Daily Reports\\center_size.xlsx\")\n",
    "\n",
    "# Exclude rows with specific values in the 'app_status' column\n",
    "filtered_df = df[~df['app_status'].isin(['REJECTED', 'DISBURSED', 'CB_VERIFICATION_FAILED','FOIR_REJECTED','CREDIT_SUBMIT_REJECTED','CLOSED','CBC_ERROR'])]\n",
    "\n",
    "# Replace blank values in 'app_status' column with a placeholder\n",
    "filtered_df['app_status'].fillna('Blank', inplace=True)\n",
    "\n",
    "# Group the filtered DataFrame by the 'Area Name' column\n",
    "grouped = filtered_df.groupby('Area name')\n",
    "\n",
    "# Specify the base directory where you want to save the Excel files\n",
    "base_directory = \"F:\\Area\"\n",
    "\n",
    "# Get today's date\n",
    "today_date = datetime.today().strftime('%Y-%m-%d')\n",
    "\n",
    "# Create a folder with today's date\n",
    "today_directory = os.path.join(base_directory, today_date)\n",
    "if not os.path.exists(today_directory):\n",
    "    os.makedirs(today_directory)\n",
    "\n",
    "# Iterate over the groups and save each group as a separate Excel file inside the today's date folder\n",
    "for area, data in grouped:\n",
    "    # Create the file path for each Excel file inside the today's date folder\n",
    "    file_count = len(data)\n",
    "    file_name = os.path.join(today_directory, f'{area}_{file_count}_{today_date}.xlsx')\n",
    "    \n",
    "    # Create a Pandas Excel writer for each area-wise file\n",
    "    with pd.ExcelWriter(file_name, engine='openpyxl') as writer:\n",
    "        # Write data to the first sheet\n",
    "        data.to_excel(writer, sheet_name='Data', index=False)\n",
    "        \n",
    "        # Create pivot table in another sheet\n",
    "        pivot_table_df = data.pivot_table(columns='app_status', index='Center Status', values='loan_id', aggfunc='count', fill_value=0, margins=True, margins_name='Grand Total')\n",
    "        pivot_table_df.to_excel(writer, sheet_name='Pivot_Table')\n",
    "        \n",
    "        # Load the workbook\n",
    "        workbook = writer.book\n",
    "        worksheet = workbook['Pivot_Table']\n",
    "        \n",
    "        # Add borders to all cells in the pivot table\n",
    "        for row in worksheet.iter_rows():\n",
    "            for cell in row:\n",
    "                cell.border = Border(left=Side(style='thin'), \n",
    "                                     right=Side(style='thin'), \n",
    "                                     top=Side(style='thin'), \n",
    "                                     bottom=Side(style='thin'))\n",
    "        \n",
    "        # Set column widths to justify content\n",
    "        for column in worksheet.columns:\n",
    "            max_length = 0\n",
    "            for cell in column:\n",
    "                try:\n",
    "                    if len(str(cell.value)) > max_length:\n",
    "                        max_length = len(str(cell.value))\n",
    "                except:\n",
    "                    pass\n",
    "            adjusted_width = (max_length + 2) * 1.2\n",
    "            worksheet.column_dimensions[column[0].column_letter].width = adjusted_width\n"
   ]
  },
  {
   "cell_type": "code",
   "execution_count": null,
   "id": "cb0c9c35-63f9-44c2-989b-deab7f58390c",
   "metadata": {},
   "outputs": [],
   "source": []
  },
  {
   "cell_type": "code",
   "execution_count": null,
   "id": "11afaf37-af65-4732-8eda-9d805ed01682",
   "metadata": {},
   "outputs": [],
   "source": []
  },
  {
   "cell_type": "code",
   "execution_count": null,
   "id": "d172775c-31ac-4570-bb5f-a2ac0334d27f",
   "metadata": {},
   "outputs": [],
   "source": []
  },
  {
   "cell_type": "code",
   "execution_count": null,
   "id": "f5293248-0d19-4406-9978-558a5d8790df",
   "metadata": {},
   "outputs": [],
   "source": []
  },
  {
   "cell_type": "code",
   "execution_count": null,
   "id": "186bf175-74ac-4eb7-a783-55910a5b5fa1",
   "metadata": {},
   "outputs": [],
   "source": []
  },
  {
   "cell_type": "code",
   "execution_count": null,
   "id": "8a2ba1df",
   "metadata": {},
   "outputs": [],
   "source": []
  },
  {
   "cell_type": "code",
   "execution_count": null,
   "id": "22931d55",
   "metadata": {},
   "outputs": [],
   "source": []
  },
  {
   "cell_type": "code",
   "execution_count": null,
   "id": "cdc08107",
   "metadata": {},
   "outputs": [],
   "source": []
  },
  {
   "cell_type": "code",
   "execution_count": null,
   "id": "05e45ae1-7a71-4973-88b6-f29c39422092",
   "metadata": {},
   "outputs": [],
   "source": []
  }
 ],
 "metadata": {
  "kernelspec": {
   "display_name": "Python 3 (ipykernel)",
   "language": "python",
   "name": "python3"
  },
  "language_info": {
   "codemirror_mode": {
    "name": "ipython",
    "version": 3
   },
   "file_extension": ".py",
   "mimetype": "text/x-python",
   "name": "python",
   "nbconvert_exporter": "python",
   "pygments_lexer": "ipython3",
   "version": "3.11.7"
  }
 },
 "nbformat": 4,
 "nbformat_minor": 5
}
