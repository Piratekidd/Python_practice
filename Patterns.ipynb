{
 "cells": [
  {
   "cell_type": "code",
   "execution_count": null,
   "id": "005e3945",
   "metadata": {},
   "outputs": [],
   "source": []
  },
  {
   "cell_type": "code",
   "execution_count": 82,
   "id": "895673e3",
   "metadata": {},
   "outputs": [
    {
     "name": "stdout",
     "output_type": "stream",
     "text": [
      "Please enter number: 5\n",
      "    *\n",
      "   **\n",
      "  ***\n",
      " ****\n",
      "*****\n"
     ]
    }
   ],
   "source": [
    "height = int(input(\"Please enter number: \"))\n",
    "\n",
    "for row in range(1,height+1):\n",
    "    print(\" \"*(height - row) + \"*\"*row)"
   ]
  },
  {
   "cell_type": "markdown",
   "id": "059b371b",
   "metadata": {},
   "source": [
    "# Pyramid"
   ]
  },
  {
   "cell_type": "code",
   "execution_count": 103,
   "id": "6775064f",
   "metadata": {},
   "outputs": [
    {
     "name": "stdout",
     "output_type": "stream",
     "text": [
      "Number: 8\n",
      "       * \n",
      "      * * \n",
      "     * * * \n",
      "    * * * * \n",
      "   * * * * * \n",
      "  * * * * * * \n",
      " * * * * * * * \n",
      "* * * * * * * * \n"
     ]
    }
   ],
   "source": [
    "n = (int(input(\"Number: \")))\n",
    "\n",
    "def triangle(n):\n",
    "    k = n - 1\n",
    "    for i in range(0,n):\n",
    "        for j in range(0,k):\n",
    "            print(end=\" \")\n",
    "        k=k-1\n",
    "        for j in range(0,i+1):\n",
    "            print(\"* \",end=\"\")\n",
    "        print(\"\\r\")\n",
    "        \n",
    "triangle(n)"
   ]
  },
  {
   "cell_type": "code",
   "execution_count": null,
   "id": "e3cc685a",
   "metadata": {},
   "outputs": [],
   "source": []
  },
  {
   "cell_type": "code",
   "execution_count": 105,
   "id": "fb08469b",
   "metadata": {},
   "outputs": [
    {
     "name": "stdout",
     "output_type": "stream",
     "text": [
      "Please enter rows: 4\n",
      "****\n",
      "***\n",
      "**\n",
      "*\n"
     ]
    }
   ],
   "source": [
    "n = int(input(\"Please enter rows: \"))\n",
    "for i in range(n, 0, -1):\n",
    "    print('*' * i)"
   ]
  },
  {
   "cell_type": "markdown",
   "id": "2a3c5d13",
   "metadata": {},
   "source": [
    "# Hollow Rectangle"
   ]
  },
  {
   "cell_type": "code",
   "execution_count": 150,
   "id": "6609f621",
   "metadata": {},
   "outputs": [
    {
     "name": "stdout",
     "output_type": "stream",
     "text": [
      "Please enter rows: 8\n",
      "Please enter col: 6\n",
      "******\n",
      "*    *\n",
      "*    *\n",
      "*    *\n",
      "*    *\n",
      "*    *\n",
      "*    *\n",
      "******\n"
     ]
    }
   ],
   "source": [
    "row = int(input(\"Please enter rows: \"))\n",
    "col = int(input(\"Please enter col: \"))\n",
    "\n",
    "\n",
    "\n",
    "for i in range(row):\n",
    "    for j in range(col):\n",
    "        if i==0 or i==row-1 or j==0 or j==col-1:\n",
    "            print(\"*\",end=\"\")\n",
    "        else:\n",
    "            print(\" \",end=\"\")\n",
    "    print()\n"
   ]
  },
  {
   "cell_type": "code",
   "execution_count": null,
   "id": "fd7a9303",
   "metadata": {},
   "outputs": [],
   "source": []
  },
  {
   "cell_type": "code",
   "execution_count": null,
   "id": "613cca87",
   "metadata": {},
   "outputs": [],
   "source": [
    "full pyramid pattern program in c using star quescol\n",
    "\n",
    "Full Pyramid Pattern\n",
    "inverted half pyramid using number program in c\n",
    "\n",
    "Inverted Half Pyramid Pattern\n",
    "right half pyramid program quescol\n",
    "\n",
    "Right Half Pyramid Pattern\n",
    "inverted full pyramid pattern program in c using star\n",
    "\n",
    "Inverted Full Pyramid Pattern\n",
    "full pyramid using number program in c\n",
    "\n",
    "Full Pyramid Pattern"
   ]
  },
  {
   "cell_type": "code",
   "execution_count": null,
   "id": "30dc9b8d",
   "metadata": {},
   "outputs": [],
   "source": [
    "Right Half Diamond Pattern\n",
    "solid left half diamond pattern program in c\n",
    "\n",
    "Left Half Diamond Pattern\n",
    "solid diamond using star program in c\n",
    "\n",
    "Full Diamond Pattern"
   ]
  },
  {
   "cell_type": "code",
   "execution_count": null,
   "id": "bc2dbef1",
   "metadata": {},
   "outputs": [],
   "source": []
  },
  {
   "cell_type": "code",
   "execution_count": null,
   "id": "0467e0c6",
   "metadata": {},
   "outputs": [],
   "source": [
    "Pascal’s Traingle"
   ]
  },
  {
   "cell_type": "code",
   "execution_count": null,
   "id": "60d390d3",
   "metadata": {},
   "outputs": [],
   "source": []
  },
  {
   "cell_type": "code",
   "execution_count": null,
   "id": "be73bd21",
   "metadata": {},
   "outputs": [],
   "source": [
    "Print Floyd’s Triangle"
   ]
  },
  {
   "cell_type": "code",
   "execution_count": null,
   "id": "a9a958d5",
   "metadata": {},
   "outputs": [],
   "source": []
  },
  {
   "cell_type": "code",
   "execution_count": null,
   "id": "cd98b1b9",
   "metadata": {},
   "outputs": [],
   "source": [
    "Solid Rhombus Right Inclined\n",
    "solid rhombus left inclined pattern program in C\n",
    "\n",
    "Solid Rhombus Left Inclined"
   ]
  },
  {
   "cell_type": "code",
   "execution_count": null,
   "id": "dee91806",
   "metadata": {},
   "outputs": [],
   "source": []
  },
  {
   "cell_type": "code",
   "execution_count": null,
   "id": "8bfd4a24",
   "metadata": {},
   "outputs": [],
   "source": [
    "Solid Rectangle\n",
    "hollow rectangle pattern program in C\n",
    "\n",
    "Hollow Rectangle"
   ]
  },
  {
   "cell_type": "code",
   "execution_count": null,
   "id": "bf864cd6",
   "metadata": {},
   "outputs": [],
   "source": []
  },
  {
   "cell_type": "code",
   "execution_count": null,
   "id": "f6584563",
   "metadata": {},
   "outputs": [],
   "source": [
    "star hyphen combination pattern 1\n",
    "star hyphen combination 3 pattern program in C\n",
    "\n",
    "Triangle Using Star Hyphen\n",
    "star hyphen combination pattern program in c\n",
    "\n",
    "star hyphen combination pattern 2\n",
    "inverted Triangle Using Star Hyphen pattern program in C\n",
    "\n",
    "Inverted Triangle Using Star Hyphen\n",
    "star hyphen combination full pattern program in c\n",
    "\n",
    "Daimond Using Star Hyphen"
   ]
  },
  {
   "cell_type": "code",
   "execution_count": null,
   "id": "713642f8",
   "metadata": {},
   "outputs": [],
   "source": []
  },
  {
   "cell_type": "code",
   "execution_count": 151,
   "id": "d9707608",
   "metadata": {},
   "outputs": [
    {
     "name": "stdout",
     "output_type": "stream",
     "text": [
      "Enter the number of rows for the diamond: 5\n",
      "    *\n",
      "   ***\n",
      "  *****\n",
      " *******\n",
      "*********\n",
      " *******\n",
      "  *****\n",
      "   ***\n",
      "    *\n"
     ]
    }
   ],
   "source": [
    "n = int(input(\"Enter the number of rows for the diamond: \"))\n",
    "\n",
    "# Upper half of the diamond\n",
    "for i in range(n):\n",
    "    print(\" \" * (n - i - 1) + \"*\" * (2 * i + 1))\n",
    "\n",
    "# Lower half of the diamond\n",
    "for i in range(n - 2, -1, -1):\n",
    "    print(\" \" * (n - i - 1) + \"*\" * (2 * i + 1))\n"
   ]
  }
 ],
 "metadata": {
  "kernelspec": {
   "display_name": "Python 3 (ipykernel)",
   "language": "python",
   "name": "python3"
  },
  "language_info": {
   "codemirror_mode": {
    "name": "ipython",
    "version": 3
   },
   "file_extension": ".py",
   "mimetype": "text/x-python",
   "name": "python",
   "nbconvert_exporter": "python",
   "pygments_lexer": "ipython3",
   "version": "3.10.9"
  }
 },
 "nbformat": 4,
 "nbformat_minor": 5
}
